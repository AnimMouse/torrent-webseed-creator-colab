{
  "nbformat": 4,
  "nbformat_minor": 0,
  "metadata": {
    "colab": {
      "name": "Torrent Webseed Creator",
      "provenance": [],
      "collapsed_sections": [],
      "include_colab_link": true
    },
    "kernelspec": {
      "name": "python3",
      "display_name": "Python 3"
    }
  },
  "cells": [
    {
      "cell_type": "markdown",
      "metadata": {
        "id": "view-in-github",
        "colab_type": "text"
      },
      "source": [
        "<a href=\"https://colab.research.google.com/github/AnimMouse/torrent-webseed-creator-colab/blob/master/Torrent_Webseed_Creator.ipynb\" target=\"_parent\"><img src=\"https://colab.research.google.com/assets/colab-badge.svg\" alt=\"Open In Colab\"/></a>"
      ]
    },
    {
      "cell_type": "markdown",
      "metadata": {
        "id": "aQuWDmfm9YOi"
      },
      "source": [
        "# Torrent Webseed Creator\r\n",
        "For piece size, 0 for automatic calculation, or use the recommended piece size on the README.md file."
      ]
    },
    {
      "cell_type": "code",
      "metadata": {
        "id": "VTdPT6jSh6jZ",
        "cellView": "form"
      },
      "source": [
        "#@title Data Input\n",
        "import os\n",
        "name = 'Firefox Setup 84.0.2' #@param {type:\"string\"}\n",
        "comment = 'Firefox Setup 84.0.2' #@param {type:\"string\"}\n",
        "url = 'https://cdn.stubdownloader.services.mozilla.com/builds/firefox-latest-ssl/en-US/win64/d64376e289766ce61f2d99579fb331af3b53619bcbff418513c944eb3aab6fa5/Firefox%20Setup%2084.0.2.exe' #@param {type:\"string\"}\n",
        "file_name = 'Firefox Setup 84.0.2.exe' #@param {type:\"string\"}\n",
        "piece_size = \"0\" #@param [\"0\", \"512\", \"1024\", \"2048\", \"4096\", \"8192\", \"16384\", \"32768\"]\n",
        "# As Google Colaboratory's forms does not work directly on os.environ, I just made it a Python variable and place it on os.environ\n",
        "os.environ[\"name\"] = name\n",
        "os.environ['comment'] = comment\n",
        "os.environ['url'] = url\n",
        "os.environ['file_name'] = file_name\n",
        "os.environ['piece_size'] = piece_size"
      ],
      "execution_count": 1,
      "outputs": []
    },
    {
      "cell_type": "markdown",
      "metadata": {
        "id": "Uf90U73y9YOj"
      },
      "source": [
        "### Mount Google Drive\n",
        "To put torrent files we need to mount Google Drive."
      ]
    },
    {
      "cell_type": "code",
      "metadata": {
        "id": "oWM9l2fvtuvO",
        "colab": {
          "base_uri": "https://localhost:8080/"
        },
        "outputId": "cdab22c1-a0ac-40cb-e203-63872926c6e8"
      },
      "source": [
        "from google.colab import drive\n",
        "drive.mount('/content/drive')"
      ],
      "execution_count": 2,
      "outputs": [
        {
          "output_type": "stream",
          "text": [
            "Mounted at /content/drive\n"
          ],
          "name": "stdout"
        }
      ]
    },
    {
      "cell_type": "markdown",
      "metadata": {
        "id": "FexiyATtNwTG"
      },
      "source": [
        "### Install Dependency\n",
        "Powered by [py3createtorrent](https://github.com/rsnitsch/py3createtorrent) to create a torrent file."
      ]
    },
    {
      "cell_type": "code",
      "metadata": {
        "id": "m6hF0emftx4h",
        "colab": {
          "base_uri": "https://localhost:8080/"
        },
        "outputId": "c15acebf-7e9d-4c7f-a6eb-e8cf60fa7b75"
      },
      "source": [
        "%pip install py3createtorrent"
      ],
      "execution_count": 3,
      "outputs": [
        {
          "output_type": "stream",
          "text": [
            "Collecting py3createtorrent\n",
            "  Downloading https://files.pythonhosted.org/packages/b1/94/c154100aeba39e01745fa07bd547bfe1afe2cefdebd876664b15074043ab/py3createtorrent-1.0.0b2-py3-none-any.whl\n",
            "Collecting bencode.py\n",
            "  Downloading https://files.pythonhosted.org/packages/15/9f/eabbc8c8a16db698d9c4bd24953763df2594b054237b89afe1ec56d3965e/bencode.py-4.0.0-py2.py3-none-any.whl\n",
            "Installing collected packages: bencode.py, py3createtorrent\n",
            "Successfully installed bencode.py-4.0.0 py3createtorrent-1.0.0b2\n"
          ],
          "name": "stdout"
        }
      ]
    },
    {
      "cell_type": "markdown",
      "metadata": {
        "id": "E1PJwspfMDdQ"
      },
      "source": [
        "### Download File"
      ]
    },
    {
      "cell_type": "code",
      "metadata": {
        "id": "cxMeP-UZMJPB",
        "colab": {
          "base_uri": "https://localhost:8080/"
        },
        "outputId": "4f71cbe6-336d-4c66-febc-9982b590081d"
      },
      "source": [
        "!wget -nv -O \"$file_name\" \"$url\""
      ],
      "execution_count": 4,
      "outputs": [
        {
          "output_type": "stream",
          "text": [
            "2021-01-10 13:59:43 URL:https://cdn.stubdownloader.services.mozilla.com/builds/firefox-latest-ssl/en-US/win64/d64376e289766ce61f2d99579fb331af3b53619bcbff418513c944eb3aab6fa5/Firefox%20Setup%2084.0.2.exe [57503776/57503776] -> \"Firefox Setup 84.0.2.exe\" [1]\n"
          ],
          "name": "stdout"
        }
      ]
    },
    {
      "cell_type": "markdown",
      "metadata": {
        "id": "s33K1LqoMOt6"
      },
      "source": [
        "### Create torrent using py3createtorrent"
      ]
    },
    {
      "cell_type": "code",
      "metadata": {
        "id": "69bcY3rrMP1B",
        "colab": {
          "base_uri": "https://localhost:8080/"
        },
        "outputId": "a320d5d6-4391-4291-fa70-f3e2d5fb2826"
      },
      "source": [
        "!py3createtorrent -p $piece_size -c \"$comment\" -o \"$name.torrent\" --webseed \"$url\" \"$file_name\""
      ],
      "execution_count": 5,
      "outputs": [
        {
          "output_type": "stream",
          "text": [
            "Successfully created torrent:\n",
            "  Name:                Firefox Setup 84.0.2.exe\n",
            "  Size:                54.84 MiB\n",
            "  Pieces:              220 x 256 KiB\n",
            "  Comment:             Firefox Setup 84.0.2\n",
            "  Private:             no\n",
            "  Creation date:       2021-01-10 13:59:46\n",
            "  DHT bootstrap nodes: (none)\n",
            "  Webseeds:            ['https://cdn.stubdownloader.services.mozilla.com/builds/firefox-latest-ssl/en-US/win64/d64376e289766ce61f2d99579fb331af3b53619bcbff418513c944eb3aab6fa5/Firefox%20Setup%2084.0.2.exe']\n",
            "  Primary tracker:     (none)\n",
            "  Backup trackers:\n",
            "    (none)\n"
          ],
          "name": "stdout"
        }
      ]
    },
    {
      "cell_type": "markdown",
      "metadata": {
        "id": "F1T6FTXRMU3o"
      },
      "source": [
        "### Upload torrent file to Google Drive\r\n",
        "This will a Torrent folder on My Drive if the folder does not exist and put created torrent file there."
      ]
    },
    {
      "cell_type": "code",
      "metadata": {
        "id": "_6_K2VZaMUU9"
      },
      "source": [
        "!mkdir -p \"/content/drive/My Drive/Torrent\"\r\n",
        "!cp \"$name.torrent\" \"/content/drive/My Drive/Torrent\""
      ],
      "execution_count": 6,
      "outputs": []
    }
  ]
}