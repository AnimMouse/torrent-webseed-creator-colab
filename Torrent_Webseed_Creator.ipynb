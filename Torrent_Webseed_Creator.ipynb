{
  "nbformat": 4,
  "nbformat_minor": 0,
  "metadata": {
    "colab": {
      "name": "Torrent Webseed Creator",
      "provenance": [],
      "collapsed_sections": [],
      "include_colab_link": true
    },
    "kernelspec": {
      "name": "python3",
      "display_name": "Python 3"
    }
  },
  "cells": [
    {
      "cell_type": "markdown",
      "metadata": {
        "id": "view-in-github",
        "colab_type": "text"
      },
      "source": [
        "<a href=\"https://colab.research.google.com/github/AnimMouse/torrent-webseed-creator-colab/blob/master/Torrent_Webseed_Creator.ipynb\" target=\"_parent\"><img src=\"https://colab.research.google.com/assets/colab-badge.svg\" alt=\"Open In Colab\"/></a>"
      ]
    },
    {
      "cell_type": "markdown",
      "metadata": {
        "id": "aQuWDmfm9YOi"
      },
      "source": [
        "# Torrent Webseed Creator"
      ]
    },
    {
      "cell_type": "code",
      "metadata": {
        "colab": {
          "base_uri": "https://localhost:8080/"
        },
        "id": "VTdPT6jSh6jZ",
        "outputId": "3a3e520f-10c3-4770-a493-ad3b17ff1b3d"
      },
      "source": [
        "%env name=Firefox Setup 84.0\r\n",
        "%env comment=Firefox Setup 84.0\r\n",
        "%env url=https://cdn.stubdownloader.services.mozilla.com/builds/firefox-latest-ssl/en-US/win64/3fdd1318dfa06611263ee86c0c74dcd76fde4cf6763ea411e758b97a0578dee6/Firefox%20Setup%2084.0.exe\r\n",
        "%env file_name=Firefox Setup 84.0.exe\r\n",
        "%env piece_size=19"
      ],
      "execution_count": null,
      "outputs": [
        {
          "output_type": "stream",
          "text": [
            "env: name=Firefox Setup 84.0\n",
            "env: comment=Firefox Setup 84.0\n",
            "env: url=https://cdn.stubdownloader.services.mozilla.com/builds/firefox-latest-ssl/en-US/win64/3fdd1318dfa06611263ee86c0c74dcd76fde4cf6763ea411e758b97a0578dee6/Firefox%20Setup%2084.0.exe\n",
            "env: file_name=Firefox Setup 84.0.exe\n",
            "env: piece_size=19\n"
          ],
          "name": "stdout"
        }
      ]
    },
    {
      "cell_type": "markdown",
      "metadata": {
        "id": "Uf90U73y9YOj"
      },
      "source": [
        "### Mount Google Drive\n",
        "To put torrent files we need to mount Google Drive."
      ]
    },
    {
      "cell_type": "code",
      "metadata": {
        "id": "oWM9l2fvtuvO"
      },
      "source": [
        "from google.colab import drive\n",
        "drive.mount('/content/drive')"
      ],
      "execution_count": null,
      "outputs": []
    },
    {
      "cell_type": "markdown",
      "metadata": {
        "id": "FexiyATtNwTG"
      },
      "source": [
        "### Install Dependency\n",
        "[mktorrent](https://github.com/pobrn/mktorrent)"
      ]
    },
    {
      "cell_type": "code",
      "metadata": {
        "id": "m6hF0emftx4h",
        "colab": {
          "base_uri": "https://localhost:8080/"
        },
        "outputId": "56836e5f-2394-432e-d4ff-297da63176b1"
      },
      "source": [
        "!apt-get update\r\n",
        "!apt-get install mktorrent"
      ],
      "execution_count": null,
      "outputs": [
        {
          "output_type": "stream",
          "text": [
            "Get:1 http://security.ubuntu.com/ubuntu bionic-security InRelease [88.7 kB]\n",
            "Ign:2 https://developer.download.nvidia.com/compute/cuda/repos/ubuntu1804/x86_64  InRelease\n",
            "Get:3 https://cloud.r-project.org/bin/linux/ubuntu bionic-cran40/ InRelease [3,626 B]\n",
            "Get:4 http://ppa.launchpad.net/c2d4u.team/c2d4u4.0+/ubuntu bionic InRelease [15.9 kB]\n",
            "Hit:5 http://archive.ubuntu.com/ubuntu bionic InRelease\n",
            "Ign:6 https://developer.download.nvidia.com/compute/machine-learning/repos/ubuntu1804/x86_64  InRelease\n",
            "Hit:7 https://developer.download.nvidia.com/compute/cuda/repos/ubuntu1804/x86_64  Release\n",
            "Hit:8 https://developer.download.nvidia.com/compute/machine-learning/repos/ubuntu1804/x86_64  Release\n",
            "Get:9 http://archive.ubuntu.com/ubuntu bionic-updates InRelease [88.7 kB]\n",
            "Hit:10 http://ppa.launchpad.net/cran/libgit2/ubuntu bionic InRelease\n",
            "Get:11 http://security.ubuntu.com/ubuntu bionic-security/universe amd64 Packages [1,375 kB]\n",
            "Get:12 http://archive.ubuntu.com/ubuntu bionic-backports InRelease [74.6 kB]\n",
            "Get:13 http://security.ubuntu.com/ubuntu bionic-security/main amd64 Packages [1,844 kB]\n",
            "Hit:14 http://ppa.launchpad.net/graphics-drivers/ppa/ubuntu bionic InRelease\n",
            "Get:15 http://security.ubuntu.com/ubuntu bionic-security/restricted amd64 Packages [247 kB]\n",
            "Get:16 https://cloud.r-project.org/bin/linux/ubuntu bionic-cran40/ Packages [41.5 kB]\n",
            "Get:19 http://ppa.launchpad.net/c2d4u.team/c2d4u4.0+/ubuntu bionic/main Sources [1,704 kB]\n",
            "Get:20 http://archive.ubuntu.com/ubuntu bionic-updates/multiverse amd64 Packages [53.9 kB]\n",
            "Get:21 http://archive.ubuntu.com/ubuntu bionic-updates/restricted amd64 Packages [277 kB]\n",
            "Get:22 http://archive.ubuntu.com/ubuntu bionic-updates/universe amd64 Packages [2,140 kB]\n",
            "Get:23 http://ppa.launchpad.net/c2d4u.team/c2d4u4.0+/ubuntu bionic/main amd64 Packages [873 kB]\n",
            "Get:24 http://archive.ubuntu.com/ubuntu bionic-updates/main amd64 Packages [2,272 kB]\n",
            "Fetched 11.1 MB in 3s (3,429 kB/s)\n",
            "Reading package lists... Done\n",
            "Reading package lists... Done\n",
            "Building dependency tree       \n",
            "Reading state information... Done\n",
            "The following NEW packages will be installed:\n",
            "  mktorrent\n",
            "0 upgraded, 1 newly installed, 0 to remove and 23 not upgraded.\n",
            "Need to get 12.1 kB of archives.\n",
            "After this operation, 38.9 kB of additional disk space will be used.\n",
            "Get:1 http://archive.ubuntu.com/ubuntu bionic/universe amd64 mktorrent amd64 1.0-4build1 [12.1 kB]\n",
            "Fetched 12.1 kB in 0s (44.9 kB/s)\n",
            "Selecting previously unselected package mktorrent.\n",
            "(Reading database ... 145480 files and directories currently installed.)\n",
            "Preparing to unpack .../mktorrent_1.0-4build1_amd64.deb ...\n",
            "Unpacking mktorrent (1.0-4build1) ...\n",
            "Setting up mktorrent (1.0-4build1) ...\n",
            "Processing triggers for man-db (2.8.3-2ubuntu0.1) ...\n"
          ],
          "name": "stdout"
        }
      ]
    },
    {
      "cell_type": "markdown",
      "metadata": {
        "id": "E1PJwspfMDdQ"
      },
      "source": [
        "### Download File"
      ]
    },
    {
      "cell_type": "code",
      "metadata": {
        "id": "cxMeP-UZMJPB",
        "colab": {
          "base_uri": "https://localhost:8080/"
        },
        "outputId": "5b3765cb-5b53-47cd-c669-ba5d09a7c60a"
      },
      "source": [
        "!wget -nv -O \"$file_name\" \"$url\""
      ],
      "execution_count": null,
      "outputs": [
        {
          "output_type": "stream",
          "text": [
            "2021-01-05 12:43:08 URL:https://cdn.stubdownloader.services.mozilla.com/builds/firefox-latest-ssl/en-US/win64/3fdd1318dfa06611263ee86c0c74dcd76fde4cf6763ea411e758b97a0578dee6/Firefox%20Setup%2084.0.exe [57496992/57496992] -> \"Firefox Setup 84.0.exe\" [1]\n"
          ],
          "name": "stdout"
        }
      ]
    },
    {
      "cell_type": "markdown",
      "metadata": {
        "id": "s33K1LqoMOt6"
      },
      "source": [
        "### Create torrent using mktorrent"
      ]
    },
    {
      "cell_type": "code",
      "metadata": {
        "id": "69bcY3rrMP1B",
        "colab": {
          "base_uri": "https://localhost:8080/"
        },
        "outputId": "a880e604-e9e1-477a-a138-fff1952665b9"
      },
      "source": [
        "!mktorrent -c \"$comment\" -l $piece_size -o \"${name}.torrent\" -w \"$url\" \"$file_name\""
      ],
      "execution_count": null,
      "outputs": [
        {
          "output_type": "stream",
          "text": [
            "mktorrent 1.0 (c) 2007, 2009 Emil Renner Berthing\n",
            "\n",
            "Must specify an announce URL. Use -h for help.\n"
          ],
          "name": "stdout"
        }
      ]
    },
    {
      "cell_type": "markdown",
      "metadata": {
        "id": "F1T6FTXRMU3o"
      },
      "source": [
        "### Upload torrent file to Google Drive"
      ]
    },
    {
      "cell_type": "code",
      "metadata": {
        "id": "_6_K2VZaMUU9"
      },
      "source": [
        "!cp \"${name}.torrent\" \"/content/drive/My Drive\""
      ],
      "execution_count": null,
      "outputs": []
    }
  ]
}