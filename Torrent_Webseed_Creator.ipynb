{
  "nbformat": 4,
  "nbformat_minor": 0,
  "metadata": {
    "colab": {
      "name": "Torrent Webseed Creator.ipynb",
      "provenance": [],
      "collapsed_sections": [],
      "include_colab_link": true
    },
    "kernelspec": {
      "name": "python3",
      "display_name": "Python 3"
    }
  },
  "cells": [
    {
      "cell_type": "markdown",
      "metadata": {
        "id": "view-in-github",
        "colab_type": "text"
      },
      "source": [
        "<a href=\"https://colab.research.google.com/github/AnimMouse/torrent-webseed-creator-colab/blob/main/Torrent_Webseed_Creator.ipynb\" target=\"_parent\"><img src=\"https://colab.research.google.com/assets/colab-badge.svg\" alt=\"Open In Colab\"/></a>"
      ]
    },
    {
      "cell_type": "markdown",
      "metadata": {
        "id": "aQuWDmfm9YOi"
      },
      "source": [
        "# [Torrent Webseed Creator on Colab](https://github.com/AnimMouse/torrent-webseed-creator-colab)\n",
        "For piece size, 0 for automatic calculation, or use the recommended piece size on the README.md file."
      ]
    },
    {
      "cell_type": "code",
      "metadata": {
        "id": "VTdPT6jSh6jZ",
        "cellView": "form"
      },
      "source": [
        "#@title Data Input\n",
        "import os\n",
        "name = 'Firefox Setup 91.0.1' #@param {type:\"string\"}\n",
        "comment = 'Firefox Setup 91.0.1 win64 en-US by torrent-webseed-creator-colab' #@param {type:\"string\"}\n",
        "url = 'https://download-installer.cdn.mozilla.net/pub/firefox/releases/91.0.1/win64/en-US/Firefox%20Setup%2091.0.1.exe' #@param {type:\"string\"}\n",
        "file_name = 'Firefox Setup 91.0.1.exe' #@param {type:\"string\"}\n",
        "piece_size = \"0\" #@param [\"0\", \"512\", \"1024\", \"2048\", \"4096\", \"8192\", \"16384\", \"32768\"]\n",
        "# As Google Colaboratory's forms does not work directly on os.environ, I just made it a Python variable and place it on os.environ\n",
        "os.environ[\"name\"] = name\n",
        "os.environ['comment'] = comment\n",
        "os.environ['url'] = url\n",
        "os.environ['file_name'] = file_name\n",
        "os.environ['piece_size'] = piece_size"
      ],
      "execution_count": null,
      "outputs": []
    },
    {
      "cell_type": "markdown",
      "metadata": {
        "id": "Uf90U73y9YOj"
      },
      "source": [
        "### Mount Google Drive\n",
        "To put torrent files we need to mount Google Drive."
      ]
    },
    {
      "cell_type": "code",
      "metadata": {
        "id": "oWM9l2fvtuvO",
        "colab": {
          "base_uri": "https://localhost:8080/"
        },
        "outputId": "65e317c5-a768-4513-fdec-03ecf99cd907"
      },
      "source": [
        "from google.colab import drive\n",
        "drive.mount('/content/drive')"
      ],
      "execution_count": null,
      "outputs": [
        {
          "output_type": "stream",
          "text": [
            "Mounted at /content/drive\n"
          ],
          "name": "stdout"
        }
      ]
    },
    {
      "cell_type": "markdown",
      "metadata": {
        "id": "FexiyATtNwTG"
      },
      "source": [
        "### Install Dependency\n",
        "Powered by [py3createtorrent](https://github.com/rsnitsch/py3createtorrent) to create a torrent file."
      ]
    },
    {
      "cell_type": "code",
      "metadata": {
        "id": "m6hF0emftx4h",
        "colab": {
          "base_uri": "https://localhost:8080/"
        },
        "outputId": "8c8fd829-f811-4a78-a877-4bae6adde5cb"
      },
      "source": [
        "%pip install py3createtorrent"
      ],
      "execution_count": null,
      "outputs": [
        {
          "output_type": "stream",
          "text": [
            "Collecting py3createtorrent\n",
            "  Downloading py3createtorrent-1.0.0-py3-none-any.whl (12 kB)\n",
            "Collecting bencode.py\n",
            "  Downloading bencode.py-4.0.0-py2.py3-none-any.whl (18 kB)\n",
            "Installing collected packages: bencode.py, py3createtorrent\n",
            "Successfully installed bencode.py-4.0.0 py3createtorrent-1.0.0\n"
          ],
          "name": "stdout"
        }
      ]
    },
    {
      "cell_type": "markdown",
      "metadata": {
        "id": "E1PJwspfMDdQ"
      },
      "source": [
        "### Download File"
      ]
    },
    {
      "cell_type": "code",
      "metadata": {
        "id": "cxMeP-UZMJPB",
        "colab": {
          "base_uri": "https://localhost:8080/"
        },
        "outputId": "3ee3198d-f128-4ccf-b995-cee54d9de63e"
      },
      "source": [
        "!wget -nv -O \"$file_name\" \"$url\""
      ],
      "execution_count": null,
      "outputs": [
        {
          "output_type": "stream",
          "text": [
            "2021-08-23 12:15:20 URL:https://download-installer.cdn.mozilla.net/pub/firefox/releases/91.0.1/win64/en-US/Firefox%20Setup%2091.0.1.exe [56101816/56101816] -> \"Firefox Setup 91.0.1.exe\" [1]\n"
          ],
          "name": "stdout"
        }
      ]
    },
    {
      "cell_type": "markdown",
      "metadata": {
        "id": "s33K1LqoMOt6"
      },
      "source": [
        "### Create torrent using py3createtorrent"
      ]
    },
    {
      "cell_type": "code",
      "metadata": {
        "id": "69bcY3rrMP1B",
        "colab": {
          "base_uri": "https://localhost:8080/"
        },
        "outputId": "aa265209-ac41-439d-8b4b-429a761df38b"
      },
      "source": [
        "!py3createtorrent -p \"$piece_size\" -c \"$comment\" -s \"torrent-webseed-creator\" -o \"$name.torrent\" --webseed \"$url\" \"$file_name\""
      ],
      "execution_count": null,
      "outputs": [
        {
          "output_type": "stream",
          "text": [
            "Successfully created torrent:\n",
            "  Name:                Firefox Setup 91.0.1.exe\n",
            "  Size:                53.50 MiB\n",
            "  Pieces:              215 x 256 KiB\n",
            "  Comment:             Firefox Setup 91.0.1 win64 en-US by torrent-webseed-creator-colab\n",
            "  Private:             no\n",
            "  Creation date:       2021-08-23 12:15:24\n",
            "  DHT bootstrap nodes: (none)\n",
            "  Webseeds:            ['https://download-installer.cdn.mozilla.net/pub/firefox/releases/91.0.1/win64/en-US/Firefox%20Setup%2091.0.1.exe']\n",
            "  Primary tracker:     (none)\n",
            "  Backup trackers:\n",
            "    (none)\n"
          ],
          "name": "stdout"
        }
      ]
    },
    {
      "cell_type": "markdown",
      "metadata": {
        "id": "F1T6FTXRMU3o"
      },
      "source": [
        "### Upload torrent file to Google Drive\n",
        "This will create a Torrent folder on My Drive if the folder does not exist and put the created torrent file there."
      ]
    },
    {
      "cell_type": "code",
      "metadata": {
        "id": "_6_K2VZaMUU9"
      },
      "source": [
        "!mkdir -p \"/content/drive/My Drive/Torrent\"\n",
        "!cp \"$name.torrent\" \"/content/drive/My Drive/Torrent\""
      ],
      "execution_count": null,
      "outputs": []
    }
  ]
}