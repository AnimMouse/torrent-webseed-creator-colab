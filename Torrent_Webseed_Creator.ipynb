{
  "nbformat": 4,
  "nbformat_minor": 0,
  "metadata": {
    "colab": {
      "provenance": [],
      "include_colab_link": true
    },
    "kernelspec": {
      "name": "python3",
      "display_name": "Python 3"
    }
  },
  "cells": [
    {
      "cell_type": "markdown",
      "metadata": {
        "id": "view-in-github",
        "colab_type": "text"
      },
      "source": [
        "<a href=\"https://colab.research.google.com/github/AnimMouse/torrent-webseed-creator-colab/blob/main/Torrent_Webseed_Creator.ipynb\" target=\"_parent\"><img src=\"https://colab.research.google.com/assets/colab-badge.svg\" alt=\"Open In Colab\"/></a>"
      ]
    },
    {
      "cell_type": "markdown",
      "metadata": {
        "id": "aQuWDmfm9YOi"
      },
      "source": [
        "# [Torrent Webseed Creator on Google Colaboratory](https://github.com/AnimMouse/torrent-webseed-creator-colab)\n",
        "For piece size, auto for automatic calculation, or use the recommended piece size on the README.md file."
      ]
    },
    {
      "cell_type": "code",
      "metadata": {
        "id": "VTdPT6jSh6jZ"
      },
      "source": [
        "#@title Data Input\n",
        "import os\n",
        "name = 'Firefox Setup 122.0.1' #@param {type:\"string\"}\n",
        "comment = 'Firefox Setup 122.0.1 win64 en-US by torrent-webseed-creator-colab' #@param {type:\"string\"}\n",
        "url = 'https://download-installer.cdn.mozilla.net/pub/firefox/releases/122.0.1/win64/en-US/Firefox%20Setup%20122.0.1.exe' #@param {type:\"string\"}\n",
        "file_name = 'Firefox Setup 122.0.1.exe' #@param {type:\"string\"}\n",
        "piece_size = 'auto' #@param [\"auto\", \"512K\", \"1024K\", \"2048K\", \"4096K\", \"8192K\", \"16384K\", \"32768K\"]\n",
        "protocol_version = '1' #@param [\"1\", \"2\", \"hybrid\"]\n",
        "# As Google Colaboratory's forms does not work directly on os.environ, I just made it a Python variable and place it on os.environ\n",
        "os.environ[\"name\"] = name\n",
        "os.environ['comment'] = comment\n",
        "os.environ['url'] = url\n",
        "os.environ['file_name'] = file_name\n",
        "os.environ['piece_size'] = piece_size\n",
        "os.environ['protocol_version'] = protocol_version"
      ],
      "execution_count": 2,
      "outputs": []
    },
    {
      "cell_type": "markdown",
      "metadata": {
        "id": "FexiyATtNwTG"
      },
      "source": [
        "### Install Dependency\n",
        "Powered by [torrenttools](https://github.com/fbdtemme/torrenttools) to create a torrent file."
      ]
    },
    {
      "cell_type": "code",
      "source": [
        "!apt-get -qq install aria2\n",
        "!wget -qO torrenttools.AppImage https://github.com/fbdtemme/torrenttools/releases/download/v0.6.2/torrenttools-0.6.2-linux-x86_64.AppImage\n",
        "!chmod +x torrenttools.AppImage\n",
        "!./torrenttools.AppImage --appimage-extract > /dev/null"
      ],
      "metadata": {
        "id": "2l9WXKgJfgO8"
      },
      "execution_count": null,
      "outputs": []
    },
    {
      "cell_type": "markdown",
      "metadata": {
        "id": "E1PJwspfMDdQ"
      },
      "source": [
        "### Download File"
      ]
    },
    {
      "cell_type": "code",
      "metadata": {
        "id": "cxMeP-UZMJPB",
        "colab": {
          "base_uri": "https://localhost:8080/"
        },
        "outputId": "5341a6b9-0ce7-4c22-d3f3-e00ce686d4e9"
      },
      "source": [
        "!aria2c -x 16 -o \"$file_name\" \"$url\""
      ],
      "execution_count": 4,
      "outputs": [
        {
          "output_type": "stream",
          "name": "stdout",
          "text": [
            "\n",
            "02/26 16:34:16 [\u001b[1;32mNOTICE\u001b[0m] Downloading 1 item(s)\n",
            "\n",
            "02/26 16:34:17 [\u001b[1;32mNOTICE\u001b[0m] Download complete: /content/Firefox Setup 122.0.1.exe\n",
            "\n",
            "Download Results:\n",
            "gid   |stat|avg speed  |path/URI\n",
            "======+====+===========+=======================================================\n",
            "12efdc|\u001b[1;32mOK\u001b[0m  |   249MiB/s|/content/Firefox Setup 122.0.1.exe\n",
            "\n",
            "Status Legend:\n",
            "(OK):download completed.\n"
          ]
        }
      ]
    },
    {
      "cell_type": "markdown",
      "metadata": {
        "id": "s33K1LqoMOt6"
      },
      "source": [
        "### Create torrent using py3createtorrent"
      ]
    },
    {
      "cell_type": "code",
      "metadata": {
        "id": "69bcY3rrMP1B",
        "colab": {
          "base_uri": "https://localhost:8080/"
        },
        "outputId": "9adfa0ed-cef1-4807-8032-43e851480351"
      },
      "source": [
        "!./squashfs-root/AppRun create -v \"$protocol_version\" -o \"$name.torrent\" -w \"$url\" -c \"$comment\" -l \"$piece_size\" -s \"torrent-webseed-creator-colab\" \"$file_name\""
      ],
      "execution_count": 6,
      "outputs": [
        {
          "output_type": "stream",
          "name": "stdout",
          "text": [
            "Metafile:          Firefox Setup 122.0.1.torrent\n",
            "Protocol version:  v1\n",
            "Piece size:        64 KiB (65536 bytes)\n",
            "Piece count:       936\n",
            "Created by:        torrenttools/0.6.2\n",
            "Created on:        2024-02-26 16:34:36 UTC\n",
            "Private:           false\n",
            "Name:              Firefox Setup 122.0.1.exe\n",
            "Source:            torrent-webseed-creator-colab\n",
            "Comment:           Firefox Setup 122.0.1 win64 en-US by torrent-webseed-creator-colab\n",
            "Announce-urls:     \n",
            "DHT nodes:         \n",
            "Web seeds:         https://download-installer.cdn.mozilla.net/pub/firefox/releases/122.0.1/win64/en-US/Firefox%20Setup%20122.0.1.exe\n",
            "HTTP seeds:        \n",
            "Similar torrents:  \n",
            "Collections:       \n",
            "Other info fields: \n",
            "\n",
            "Files:\n",
            "\u001b[m  Firefox Setup 122.0.1.exe\n",
            "\u001b[0;39;49m\n",
            "  58.45 MiB in 0 directories, 1 files\n",
            "\n",
            "\n",
            "Hashing files...\n",
            "\u001b[?7l\u001b[?25l\u001b[1`(1/1) ... ... \u001b[m|\u001b[m\u001b[m        \u001b[m|\u001b[0;39;49m ... ...\u001b[0K\u001b[1`(1/1) ... ... \u001b[m|\u001b[m\u001b[m        \u001b[m|\u001b[0;39;49m ... ...\u001b[0K\u001b[1`(1/1) ... ... \u001b[m|\u001b[m\u001b[m        \u001b[m|\u001b[0;39;49m ... ...\u001b[0K\u001b[1`(1/1) ...   0% \u001b[m|\u001b[m\u001b[m        \u001b[m|\u001b[0;39;49m 0.00   B/s     00:00  \u001b[0K\u001b[1`(1/1) ...   0% \u001b[m|\u001b[m\u001b[m        \u001b[m|\u001b[0;39;49m 0.00   B/s     00:00  \u001b[0K\u001b[1`(1/1) ...   0% \u001b[m|\u001b[m\u001b[m        \u001b[m|\u001b[0;39;49m 0.00   B/s     00:00  \u001b[0K\u001b[1`(1/1) ...   0% \u001b[m|\u001b[m\u001b[m        \u001b[m|\u001b[0;39;49m 0.00   B/s     00:00  \u001b[0K\u001b[1`(1/1) ...   0% \u001b[m|\u001b[m\u001b[m        \u001b[m|\u001b[0;39;49m 0.00   B/s     00:00  \u001b[0K\u001b[1`(1/1) ...   0% \u001b[m|\u001b[m\u001b[m        \u001b[m|\u001b[0;39;49m 0.00   B/s     00:00  \u001b[0K\u001b[1`(1/1) ...   0% \u001b[m|\u001b[m\u001b[m        \u001b[m|\u001b[0;39;49m 0.00   B/s     00:00  \u001b[0K\u001b[1`(1/1) ...   0% \u001b[m|\u001b[m\u001b[m        \u001b[m|\u001b[0;39;49m 0.00   B/s     00:00  \u001b[0K\u001b[1`(1/1) ...   0% \u001b[m|\u001b[m\u001b[m        \u001b[m|\u001b[0;39;49m 0.00   B/s     00:00  \u001b[0K\u001b[1`(1/1) ... 100% \u001b[m|\u001b[m████████\u001b[m\u001b[m|\u001b[0;39;49m  164 MiB/s     00:00  \u001b[0K\u001b[1`(1/1) ... 100% \u001b[m|\u001b[m████████\u001b[m\u001b[m|\u001b[0;39;49m  164 MiB/s     00:00  \u001b[0K\u001b[1`(1/1) ... 100% \u001b[m|\u001b[m████████\u001b[m\u001b[m|\u001b[0;39;49m  164 MiB/s     00:00  \u001b[0K\u001b[1`(1/1) ... 100% \u001b[m|\u001b[m████████\u001b[m\u001b[m|\u001b[0;39;49m  164 MiB/s     00:00  \u001b[0K\u001b[1`(1/1) ... 100% \u001b[m|\u001b[m████████\u001b[m\u001b[m|\u001b[0;39;49m  164 MiB/s     00:00  \u001b[0K\u001b[1`(1/1) ... 100% \u001b[m|\u001b[m████████\u001b[m\u001b[m|\u001b[0;39;49m  164 MiB/s     00:00  \u001b[0K\u001b[1`\u001b[0K\u001b[2ACompleted in:        0.27s\n",
            "Average hash rate:   216 MiB/s\n",
            "Infohash:            e732d05bba0246de6f4edbf60235717e14d0e438\n",
            "\u001b[?7h\u001b[?25hMetafile written to: Firefox Setup 122.0.1.torrent\n",
            "Warning: could not find config.yml file: not all features will be available."
          ]
        }
      ]
    },
    {
      "cell_type": "markdown",
      "metadata": {
        "id": "F1T6FTXRMU3o"
      },
      "source": [
        "### Download torrent file"
      ]
    },
    {
      "cell_type": "code",
      "source": [
        "from google.colab import files\n",
        "files.download(f'{name}.torrent')"
      ],
      "metadata": {
        "id": "YVa4fwAMj7yF",
        "colab": {
          "base_uri": "https://localhost:8080/",
          "height": 17
        },
        "outputId": "493edd89-e8a7-4801-bd4d-18d5418af42a"
      },
      "execution_count": 7,
      "outputs": [
        {
          "output_type": "display_data",
          "data": {
            "text/plain": [
              "<IPython.core.display.Javascript object>"
            ],
            "application/javascript": [
              "\n",
              "    async function download(id, filename, size) {\n",
              "      if (!google.colab.kernel.accessAllowed) {\n",
              "        return;\n",
              "      }\n",
              "      const div = document.createElement('div');\n",
              "      const label = document.createElement('label');\n",
              "      label.textContent = `Downloading \"${filename}\": `;\n",
              "      div.appendChild(label);\n",
              "      const progress = document.createElement('progress');\n",
              "      progress.max = size;\n",
              "      div.appendChild(progress);\n",
              "      document.body.appendChild(div);\n",
              "\n",
              "      const buffers = [];\n",
              "      let downloaded = 0;\n",
              "\n",
              "      const channel = await google.colab.kernel.comms.open(id);\n",
              "      // Send a message to notify the kernel that we're ready.\n",
              "      channel.send({})\n",
              "\n",
              "      for await (const message of channel.messages) {\n",
              "        // Send a message to notify the kernel that we're ready.\n",
              "        channel.send({})\n",
              "        if (message.buffers) {\n",
              "          for (const buffer of message.buffers) {\n",
              "            buffers.push(buffer);\n",
              "            downloaded += buffer.byteLength;\n",
              "            progress.value = downloaded;\n",
              "          }\n",
              "        }\n",
              "      }\n",
              "      const blob = new Blob(buffers, {type: 'application/binary'});\n",
              "      const a = document.createElement('a');\n",
              "      a.href = window.URL.createObjectURL(blob);\n",
              "      a.download = filename;\n",
              "      div.appendChild(a);\n",
              "      a.click();\n",
              "      div.remove();\n",
              "    }\n",
              "  "
            ]
          },
          "metadata": {}
        },
        {
          "output_type": "display_data",
          "data": {
            "text/plain": [
              "<IPython.core.display.Javascript object>"
            ],
            "application/javascript": [
              "download(\"download_67df25cc-6e5f-4d10-8c47-37b46944326f\", \"Firefox Setup 122.0.1.torrent\", 19181)"
            ]
          },
          "metadata": {}
        }
      ]
    }
  ]
}